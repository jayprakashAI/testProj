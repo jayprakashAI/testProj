{
 "cells": [
  {
   "cell_type": "code",
   "execution_count": 56,
   "id": "c5975dbe",
   "metadata": {},
   "outputs": [
    {
     "data": {
      "text/plain": [
       "'/home/aasjp/Downloads/PythonRecipes'"
      ]
     },
     "execution_count": 56,
     "metadata": {},
     "output_type": "execute_result"
    }
   ],
   "source": [
    "import os\n",
    "os.getcwd()"
   ]
  },
  {
   "cell_type": "code",
   "execution_count": 3,
   "id": "73970099",
   "metadata": {},
   "outputs": [
    {
     "name": "stdout",
     "output_type": "stream",
     "text": [
      "remElem 2\n",
      "remElem 3\n",
      "remElem 4\n",
      "remElem 5\n",
      "remElem 6\n",
      "remElem 7\n",
      "remElem 8\n",
      "remElem 9\n",
      "remElem 10\n",
      "[1, 2, 14, 17, 2, 25]\n"
     ]
    }
   ],
   "source": [
    "l = [1,2,5,6,7,2,14,17,2,25]\n",
    "limit = len(l)\n",
    "remove_multiples(1,l,limit)\n",
    "print(l)"
   ]
  },
  {
   "cell_type": "code",
   "execution_count": 2,
   "id": "48861da6",
   "metadata": {},
   "outputs": [],
   "source": [
    "def remove_multiples(element, lista, limit):\n",
    "    multiplier = 2\n",
    "    while multiplier*element <= limit:\n",
    "        remElem = multiplier*element\n",
    "        print(f\"remElem {remElem}\")\n",
    "        if multiplier*element in lista:\n",
    "            lista.remove(multiplier*element)\n",
    "        multiplier += 1\n"
   ]
  },
  {
   "cell_type": "code",
   "execution_count": 28,
   "id": "5d1feb99",
   "metadata": {},
   "outputs": [
    {
     "data": {
      "text/plain": [
       "[1, 2, 4, 5, 5, 5, 6, 7, 67]"
      ]
     },
     "execution_count": 28,
     "metadata": {},
     "output_type": "execute_result"
    }
   ],
   "source": [
    "        lista = [1,5,2,5, 7, 5, 4, 6, 5,67,2]\n",
    "        mylist = lista.copy()\n",
    "        mylist.pop(1)\n",
    "        mylist.remove(2)\n",
    "        mylist.reverse()\n",
    "        mylist.sort()\n",
    "        mylist\n",
    "        \n",
    "        \n",
    "  "
   ]
  },
  {
   "cell_type": "code",
   "execution_count": 46,
   "id": "824a6e6f",
   "metadata": {},
   "outputs": [],
   "source": [
    "def eratosthenes(max_number):\n",
    "    lista = list(range(2, max_number))\n",
    "    index = 0 \n",
    "    while index < len(lista):\n",
    "        elem = lista[index]\n",
    "        remove_multiples(elem, lista, max_number)\n",
    "        index+=1\n",
    "    return lista\n",
    "    "
   ]
  },
  {
   "cell_type": "code",
   "execution_count": 34,
   "id": "de721622",
   "metadata": {},
   "outputs": [
    {
     "name": "stdout",
     "output_type": "stream",
     "text": [
      "not exist\n"
     ]
    }
   ],
   "source": [
    "num1 = [1,2,3,4,5]\n",
    "if not 4 in num1:\n",
    "    print(\"exist\")\n",
    "else:\n",
    "    print(\"not exist\")"
   ]
  },
  {
   "cell_type": "code",
   "execution_count": 51,
   "id": "58abb855",
   "metadata": {},
   "outputs": [
    {
     "data": {
      "text/plain": [
       "[1,\n",
       " 3,\n",
       " 5,\n",
       " 7,\n",
       " 9,\n",
       " 11,\n",
       " 13,\n",
       " 15,\n",
       " 17,\n",
       " 19,\n",
       " 21,\n",
       " 23,\n",
       " 25,\n",
       " 27,\n",
       " 29,\n",
       " 31,\n",
       " 33,\n",
       " 35,\n",
       " 37,\n",
       " 39,\n",
       " 41,\n",
       " 43,\n",
       " 45,\n",
       " 47,\n",
       " 49]"
      ]
     },
     "execution_count": 51,
     "metadata": {},
     "output_type": "execute_result"
    }
   ],
   "source": [
    "list(range(1, 50,2))"
   ]
  },
  {
   "cell_type": "code",
   "execution_count": 47,
   "id": "30735918",
   "metadata": {},
   "outputs": [
    {
     "name": "stdout",
     "output_type": "stream",
     "text": [
      "remElem 4\n",
      "remElem 6\n",
      "remElem 8\n",
      "remElem 10\n",
      "remElem 12\n",
      "remElem 14\n",
      "remElem 16\n",
      "remElem 18\n",
      "remElem 20\n",
      "remElem 22\n",
      "remElem 24\n",
      "remElem 26\n",
      "remElem 28\n",
      "remElem 30\n",
      "remElem 32\n",
      "remElem 34\n",
      "remElem 36\n",
      "remElem 38\n",
      "remElem 40\n",
      "remElem 42\n",
      "remElem 44\n",
      "remElem 46\n",
      "remElem 48\n",
      "remElem 50\n",
      "remElem 6\n",
      "remElem 9\n",
      "remElem 12\n",
      "remElem 15\n",
      "remElem 18\n",
      "remElem 21\n",
      "remElem 24\n",
      "remElem 27\n",
      "remElem 30\n",
      "remElem 33\n",
      "remElem 36\n",
      "remElem 39\n",
      "remElem 42\n",
      "remElem 45\n",
      "remElem 48\n",
      "remElem 10\n",
      "remElem 15\n",
      "remElem 20\n",
      "remElem 25\n",
      "remElem 30\n",
      "remElem 35\n",
      "remElem 40\n",
      "remElem 45\n",
      "remElem 50\n",
      "remElem 14\n",
      "remElem 21\n",
      "remElem 28\n",
      "remElem 35\n",
      "remElem 42\n",
      "remElem 49\n",
      "remElem 22\n",
      "remElem 33\n",
      "remElem 44\n",
      "remElem 26\n",
      "remElem 39\n",
      "remElem 34\n",
      "remElem 38\n",
      "remElem 46\n"
     ]
    },
    {
     "data": {
      "text/plain": [
       "[2, 3, 5, 7, 11, 13, 17, 19, 23, 29, 31, 37, 41, 43, 47]"
      ]
     },
     "execution_count": 47,
     "metadata": {},
     "output_type": "execute_result"
    }
   ],
   "source": [
    "eratosthenes(50)"
   ]
  },
  {
   "cell_type": "markdown",
   "id": "eea6fad0",
   "metadata": {},
   "source": [
    "# LIST COMPREHENSION "
   ]
  },
  {
   "cell_type": "markdown",
   "id": "390c63d6",
   "metadata": {},
   "source": [
    "## Below given is the syntax of the list comprehension in Python:\n",
    "\n",
    "### mylist = [output/expression for item in iterable if condition == True]"
   ]
  },
  {
   "cell_type": "markdown",
   "id": "c7c5feb8",
   "metadata": {},
   "source": [
    "#### List comprehension is a single line of code written inside the square brackets. It makes our code shorter and look more pythonic.\n",
    "We can use list comprehension in Python whenever we want to create a new list or have simple filtering tasks.\n",
    "We should avoid using list comprehension if we have too many conditions to add for filtering or modifying, as it will make our code more complex and harder to read."
   ]
  },
  {
   "cell_type": "code",
   "execution_count": 6,
   "id": "c01d62fd",
   "metadata": {},
   "outputs": [
    {
     "name": "stdout",
     "output_type": "stream",
     "text": [
      "1.1852893829345703\n"
     ]
    }
   ],
   "source": [
    "import time\n",
    "iterations = 10000000\n",
    "start = time.time()\n",
    "mylist = []\n",
    "for i in range(iterations):\n",
    "    mylist.append(i+1)\n",
    "end = time.time()\n",
    "print(end - start)"
   ]
  },
  {
   "cell_type": "code",
   "execution_count": 7,
   "id": "1519a55e",
   "metadata": {},
   "outputs": [
    {
     "name": "stdout",
     "output_type": "stream",
     "text": [
      "0.7155506610870361\n"
     ]
    }
   ],
   "source": [
    "start = time.time()\n",
    "mylist = [i+1 for i in range(iterations)]\n",
    "end = time.time()\n",
    "print(end - start)"
   ]
  },
  {
   "cell_type": "code",
   "execution_count": 9,
   "id": "099ff945",
   "metadata": {},
   "outputs": [],
   "source": [
    "#mylist"
   ]
  },
  {
   "cell_type": "markdown",
   "id": "31920d6c",
   "metadata": {},
   "source": [
    "### List comprehensions are faster than for loops to create lists."
   ]
  },
  {
   "cell_type": "code",
   "execution_count": 11,
   "id": "e45a27dc",
   "metadata": {},
   "outputs": [
    {
     "name": "stdout",
     "output_type": "stream",
     "text": [
      "Mercury Venus Earth Mars Jupiter Saturn Uranus Neptune "
     ]
    }
   ],
   "source": [
    "planets = ['Mercury', 'Venus', 'Earth', 'Mars', 'Jupiter', 'Saturn', 'Uranus', 'Neptune']\n",
    "for planet in planets:\n",
    "    print(planet,end=' ') # print all on same line"
   ]
  },
  {
   "cell_type": "code",
   "execution_count": 10,
   "id": "78fa4f01",
   "metadata": {},
   "outputs": [
    {
     "data": {
      "text/plain": [
       "360"
      ]
     },
     "execution_count": 10,
     "metadata": {},
     "output_type": "execute_result"
    }
   ],
   "source": [
    "multiplicands = (2, 2, 2, 3, 3, 5)\n",
    "product = 1\n",
    "for mult in multiplicands:\n",
    "    product = product * mult\n",
    "product"
   ]
  },
  {
   "cell_type": "code",
   "execution_count": 12,
   "id": "2756eda7",
   "metadata": {},
   "outputs": [
    {
     "name": "stdout",
     "output_type": "stream",
     "text": [
      "HELLO"
     ]
    }
   ],
   "source": [
    "s = 'steganograpHy is the practicE of conceaLing a file, message, image, or video within another fiLe, message, image, Or video.'\n",
    "msg = ''\n",
    "# print all the uppercase letters in s, one at a time\n",
    "for char in s:\n",
    "    if char.isupper():\n",
    "        print(char, end='')        "
   ]
  },
  {
   "cell_type": "code",
   "execution_count": 13,
   "id": "ad750e68",
   "metadata": {},
   "outputs": [
    {
     "name": "stdout",
     "output_type": "stream",
     "text": [
      "Doing important work. i = 0\n",
      "Doing important work. i = 1\n",
      "Doing important work. i = 2\n",
      "Doing important work. i = 3\n",
      "Doing important work. i = 4\n"
     ]
    }
   ],
   "source": [
    "for i in range(5):\n",
    "    print(\"Doing important work. i =\", i) #range() is a function that returns a sequence of numbers. It turns out to be very useful for writing loops."
   ]
  },
  {
   "cell_type": "code",
   "execution_count": 14,
   "id": "a2373b50",
   "metadata": {},
   "outputs": [
    {
     "name": "stdout",
     "output_type": "stream",
     "text": [
      "0 1 2 3 4 5 6 7 8 9 "
     ]
    }
   ],
   "source": [
    "i = 0\n",
    "while i < 10:\n",
    "    print(i, end=' ')\n",
    "    i += 1 # increase the value of i by 1"
   ]
  },
  {
   "cell_type": "code",
   "execution_count": 15,
   "id": "660593e7",
   "metadata": {},
   "outputs": [
    {
     "data": {
      "text/plain": [
       "[0, 1, 4, 9, 16, 25, 36, 49, 64, 81]"
      ]
     },
     "execution_count": 15,
     "metadata": {},
     "output_type": "execute_result"
    }
   ],
   "source": [
    "squares = [n**2 for n in range(10)]\n",
    "squares"
   ]
  },
  {
   "cell_type": "code",
   "execution_count": 16,
   "id": "5dc606db",
   "metadata": {},
   "outputs": [
    {
     "data": {
      "text/plain": [
       "[0, 1, 4, 9, 16, 25, 36, 49, 64, 81]"
      ]
     },
     "execution_count": 16,
     "metadata": {},
     "output_type": "execute_result"
    }
   ],
   "source": [
    "# Here's how we would do the same thing without a list comprehension:\n",
    "squares = []\n",
    "for n in range(10):\n",
    "    squares.append(n**2)\n",
    "squares\n"
   ]
  },
  {
   "cell_type": "code",
   "execution_count": 17,
   "id": "eab0da1a",
   "metadata": {},
   "outputs": [
    {
     "data": {
      "text/plain": [
       "['Venus', 'Earth', 'Mars']"
      ]
     },
     "execution_count": 17,
     "metadata": {},
     "output_type": "execute_result"
    }
   ],
   "source": [
    "short_planets = [planet for planet in planets if len(planet) < 6] # we can also if condition to the List comprehension\n",
    "short_planets"
   ]
  },
  {
   "cell_type": "code",
   "execution_count": 18,
   "id": "8753834d",
   "metadata": {},
   "outputs": [
    {
     "data": {
      "text/plain": [
       "['VENUS!', 'EARTH!', 'MARS!', 'SATURN!', 'URANUS!']"
      ]
     },
     "execution_count": 18,
     "metadata": {},
     "output_type": "execute_result"
    }
   ],
   "source": [
    "# str.upper() returns an all-caps version of a string\n",
    "loud_short_planets = [planet.upper() + '!' for planet in planets if len(planet) < 7]\n",
    "loud_short_planets"
   ]
  },
  {
   "cell_type": "code",
   "execution_count": 19,
   "id": "92fe219b",
   "metadata": {},
   "outputs": [
    {
     "data": {
      "text/plain": [
       "['VENUS!', 'EARTH!', 'MARS!']"
      ]
     },
     "execution_count": 19,
     "metadata": {},
     "output_type": "execute_result"
    }
   ],
   "source": [
    "# you might find the structure clearer when it's split up over 3 lines:\n",
    "[\n",
    "    planet.upper() + '!' \n",
    "    for planet in planets \n",
    "    if len(planet) < 6\n",
    "]"
   ]
  },
  {
   "cell_type": "code",
   "execution_count": 21,
   "id": "2f9fa0f0",
   "metadata": {},
   "outputs": [
    {
     "data": {
      "text/plain": [
       "3"
      ]
     },
     "execution_count": 21,
     "metadata": {},
     "output_type": "execute_result"
    }
   ],
   "source": [
    "# FOR Loop version\n",
    "def count_negatives(nums):\n",
    "    \"\"\"Return the number of negative numbers in the given list.\n",
    "    \n",
    "       count_negatives([5, -1, -2, 0, 3])\n",
    "    2\n",
    "    \"\"\"\n",
    "    n_negative = 0\n",
    "    for num in nums:\n",
    "        if num < 0:\n",
    "            n_negative = n_negative + 1\n",
    "    return n_negative\n",
    "\n",
    "count_negatives([5, -1, -2, 0, 1,5,3, -11,100])"
   ]
  },
  {
   "cell_type": "code",
   "execution_count": 22,
   "id": "000dad7b",
   "metadata": {},
   "outputs": [
    {
     "data": {
      "text/plain": [
       "2"
      ]
     },
     "execution_count": 22,
     "metadata": {},
     "output_type": "execute_result"
    }
   ],
   "source": [
    "# LIST COMPREHENSION version\n",
    "def count_negatives(nums):\n",
    "    return len([num for num in nums if num < 0])\n",
    "count_negatives([5, -1, -2, 0, 3])"
   ]
  },
  {
   "cell_type": "code",
   "execution_count": 23,
   "id": "75e86b2c",
   "metadata": {},
   "outputs": [],
   "source": [
    "f_list =[[[1, 2, 3]], [[4, 5, 6]], [[7, 8, 9]]]"
   ]
  },
  {
   "cell_type": "code",
   "execution_count": 24,
   "id": "eaafaa02",
   "metadata": {},
   "outputs": [
    {
     "data": {
      "text/plain": [
       "[1, 2, 3, 4, 5, 6, 7, 8, 9]"
      ]
     },
     "execution_count": 24,
     "metadata": {},
     "output_type": "execute_result"
    }
   ],
   "source": [
    "#Step 1:\n",
    "\n",
    "new_l=[]\n",
    "for sublist in f_list:\n",
    "    for subsublist in sublist:\n",
    "        [new_l.append(i) for i in subsublist]\n",
    "\n",
    "new_l"
   ]
  },
  {
   "cell_type": "code",
   "execution_count": 25,
   "id": "25c88160",
   "metadata": {},
   "outputs": [
    {
     "data": {
      "text/plain": [
       "[1, 2, 3, 4, 5, 6, 7, 8, 9]"
      ]
     },
     "execution_count": 25,
     "metadata": {},
     "output_type": "execute_result"
    }
   ],
   "source": [
    "#Step 2:\n",
    "\n",
    "new_l=[]\n",
    "for sublist in f_list:\n",
    "    [new_l.append(i) for subsublist in sublist for i in subsublist]\n",
    "    \n",
    "new_l"
   ]
  },
  {
   "cell_type": "code",
   "execution_count": 27,
   "id": "79c296da",
   "metadata": {},
   "outputs": [
    {
     "data": {
      "text/plain": [
       "[1, 2, 3, 4, 5, 6, 7, 8, 9]"
      ]
     },
     "execution_count": 27,
     "metadata": {},
     "output_type": "execute_result"
    }
   ],
   "source": [
    "#Step 3:\n",
    "\n",
    "new_l = []\n",
    "[ new_l.append(i) for sublist in f_list \n",
    "  for subsublist in sublist \n",
    "  for i in subsublist]\n",
    "new_l"
   ]
  },
  {
   "cell_type": "code",
   "execution_count": 28,
   "id": "d21e68f1",
   "metadata": {},
   "outputs": [],
   "source": [
    "# finally \n",
    "new_l = [i for sublist in f_list for subsublist in sublist for i in subsublist]"
   ]
  },
  {
   "cell_type": "code",
   "execution_count": 29,
   "id": "3c689875",
   "metadata": {},
   "outputs": [
    {
     "data": {
      "text/plain": [
       "[1, 2, 3, 4, 5, 6, 7, 8, 9]"
      ]
     },
     "execution_count": 29,
     "metadata": {},
     "output_type": "execute_result"
    }
   ],
   "source": [
    "new_l"
   ]
  },
  {
   "cell_type": "code",
   "execution_count": 38,
   "id": "88edcd57",
   "metadata": {},
   "outputs": [
    {
     "name": "stdout",
     "output_type": "stream",
     "text": [
      "Nested list:  [[1, 5, 6, 7], [8, 9, 10], [11, 12]]\n",
      "Normal list:  [1, 5, 6, 7, 8, 9, 10, 11, 12]\n"
     ]
    }
   ],
   "source": [
    "def simplest_list_comp(ls):\n",
    "    #for nested list\n",
    "    ls1 = [[i for i in j] for j in ls]\n",
    "    print(\"Nested list: \",ls)\n",
    "    #for normal list\n",
    "    ls2 = [j for i in ls for j in i]\n",
    "    print(\"Normal list: \",ls2)\n",
    "\n",
    "simplest_list_comp([[1,5,6,7],[8,9,10],[11,12]])"
   ]
  },
  {
   "cell_type": "markdown",
   "id": "23c194bc",
   "metadata": {},
   "source": [
    "## Using Conditional Logic in List Comprehensions\n"
   ]
  },
  {
   "cell_type": "code",
   "execution_count": 41,
   "id": "90ad7731",
   "metadata": {},
   "outputs": [
    {
     "name": "stdout",
     "output_type": "stream",
     "text": [
      "Our result is:  [31, 32, 33, 70, 120, 420]\n"
     ]
    }
   ],
   "source": [
    "def nested_if_else(ls):\n",
    "    #nested if else condition\n",
    "    result = [a+10 if a<30 else a+5 for a in ls]\n",
    "    \n",
    "    print(\"Our result is: \",result)\n",
    "\n",
    "#driver code\n",
    "nested_if_else([21,22,23,65,115,415])"
   ]
  },
  {
   "cell_type": "code",
   "execution_count": 39,
   "id": "fcdcbe5c",
   "metadata": {},
   "outputs": [
    {
     "name": "stdout",
     "output_type": "stream",
     "text": [
      "Our result is:  [11, 12, 13, 50, 100, 400]\n"
     ]
    }
   ],
   "source": [
    "def nested_if_else(ls):\n",
    "    result = []\n",
    "    for a in ls:\n",
    "        if a < 10:\n",
    "            result.append(a+10)\n",
    "        else:\n",
    "            result.append(a+5)\n",
    "    print(\"Our result is: \",result)\n",
    "\n",
    "#driver code\n",
    "nested_if_else([1,2,3,45,95,395])\n"
   ]
  },
  {
   "cell_type": "code",
   "execution_count": 43,
   "id": "3ad137b0",
   "metadata": {},
   "outputs": [
    {
     "name": "stdout",
     "output_type": "stream",
     "text": [
      "Our result is:  [2, 4, 6, 400, 50, 100, 400]\n"
     ]
    }
   ],
   "source": [
    "def nested_if_else(ls):\n",
    "    #nested if else condition\n",
    "    result = [a*2 if a<10 else a**2 if not a%2 else  a+5 for a in ls]\n",
    "    \n",
    "    print(\"Our result is: \",result)\n",
    "\n",
    "#driver code\n",
    "nested_if_else([1,2,3,20,45,95,395])\n"
   ]
  },
  {
   "cell_type": "markdown",
   "id": "1385e731",
   "metadata": {},
   "source": [
    "## Using the Walrus Operator in List Comprehensions\n",
    "#### Python 3.8 introduced the walrus operator, which allowed us to accomplish two tasks at the same time: assigning a value to a variable returning the value at the same time It sometimes leads to shorter, more readable code, which is also more computationally efficient.\n",
    "\n",
    "Syntax: Walrus operator is popularly known by the symbol \n",
    " \":=\". Below given is the syntax for the walrus operator:"
   ]
  },
  {
   "cell_type": "code",
   "execution_count": 44,
   "id": "1c0c5a6a",
   "metadata": {},
   "outputs": [
    {
     "name": "stdout",
     "output_type": "stream",
     "text": [
      "[2012, 2017, 2012, 2010, 2013]\n"
     ]
    }
   ],
   "source": [
    "import random\n",
    "def record_year():\n",
    "    return random.randrange(2000, 2020)\n",
    "\n",
    "\n",
    "def walrus():\n",
    "    #nested if else condition\n",
    "    records = [rec for i in range(10) if (rec := record_year()) >= 2010]\n",
    "    print(records)\n",
    "\n",
    "#driver code\n",
    "walrus()\n"
   ]
  },
  {
   "cell_type": "code",
   "execution_count": 45,
   "id": "55a2b6a8",
   "metadata": {},
   "outputs": [
    {
     "name": "stdout",
     "output_type": "stream",
     "text": [
      "[1, 3, 5]\n",
      "[2, 4, 6]\n"
     ]
    }
   ],
   "source": [
    "#Transpose of a matrix in Python\n",
    "def transpose(A):\n",
    "    \n",
    "    output = [[A[j][i] for j in range(len(A))] for i in range(len(A[0]))]\n",
    "\n",
    "    for i in output:\n",
    "       print(i)\n",
    "       \n",
    "       \n",
    "transpose([[1,2],[3,4],[5,6]])\n"
   ]
  },
  {
   "cell_type": "code",
   "execution_count": 46,
   "id": "fb367645",
   "metadata": {},
   "outputs": [
    {
     "name": "stdout",
     "output_type": "stream",
     "text": [
      "[1, 3, 5]\n",
      "[2, 4, 6]\n"
     ]
    }
   ],
   "source": [
    "def transpose(A):\n",
    "    result = [[0,0,0],\n",
    "         [0,0,0]]\n",
    "    for i in range(len(A)):\n",
    "        for j in range(len(A[0])):\n",
    "            result[j][i] = A[i][j]\n",
    "    for i in result:\n",
    "       print(i)\n",
    "       \n",
    "       \n",
    "transpose([[1,2],[3,4],[5,6]])\n"
   ]
  },
  {
   "cell_type": "code",
   "execution_count": 47,
   "id": "916fb112",
   "metadata": {},
   "outputs": [
    {
     "name": "stdout",
     "output_type": "stream",
     "text": [
      "22\n",
      "23\n",
      "24\n",
      "25\n"
     ]
    }
   ],
   "source": [
    "for i  in [19, 20, 21,22,23,24,25]:\n",
    "    if i < 22:\n",
    "        continue\n",
    "    else :\n",
    "        print(i)"
   ]
  },
  {
   "cell_type": "code",
   "execution_count": 48,
   "id": "b7b10a7b",
   "metadata": {},
   "outputs": [
    {
     "data": {
      "text/plain": [
       "'bangalorebangalorebangalore'"
      ]
     },
     "execution_count": 48,
     "metadata": {},
     "output_type": "execute_result"
    }
   ],
   "source": [
    "def string_times(str, n):\n",
    "    return str * n\n",
    "    \n",
    "string_times(\"bangalore\",3)"
   ]
  },
  {
   "cell_type": "code",
   "execution_count": 50,
   "id": "7555d1fc",
   "metadata": {},
   "outputs": [
    {
     "name": "stdout",
     "output_type": "stream",
     "text": [
      "3\n"
     ]
    }
   ],
   "source": [
    "def array_count9(nums):\n",
    "    j=0\n",
    "    for i in nums:\n",
    "      if i == 9:\n",
    "        j= j+1\n",
    "    return j\n",
    "    \n",
    "p = array_count9([18,9,3,5,9,12,56,9,23,0])\n",
    "print(p)"
   ]
  },
  {
   "cell_type": "code",
   "execution_count": 51,
   "id": "ff0f1032",
   "metadata": {},
   "outputs": [
    {
     "data": {
      "text/plain": [
       "3"
      ]
     },
     "execution_count": 51,
     "metadata": {},
     "output_type": "execute_result"
    }
   ],
   "source": [
    "[18,9,3,5,9,12,56,9,23,0].count(9)"
   ]
  },
  {
   "cell_type": "code",
   "execution_count": 52,
   "id": "cdfdbed6",
   "metadata": {},
   "outputs": [
    {
     "data": {
      "text/plain": [
       "[9, 5, 3, 9, 5, 3, 9, 5, 3]"
      ]
     },
     "execution_count": 52,
     "metadata": {},
     "output_type": "execute_result"
    }
   ],
   "source": [
    "l=[9,5,3]\n",
    "l*3"
   ]
  },
  {
   "cell_type": "code",
   "execution_count": 53,
   "id": "4a22a72e",
   "metadata": {},
   "outputs": [
    {
     "data": {
      "text/plain": [
       "4"
      ]
     },
     "execution_count": 53,
     "metadata": {},
     "output_type": "execute_result"
    }
   ],
   "source": [
    "s = {1,2,5,8,}\n",
    "len(s)"
   ]
  },
  {
   "cell_type": "code",
   "execution_count": 54,
   "id": "75d56caf",
   "metadata": {},
   "outputs": [
    {
     "data": {
      "text/plain": [
       "set"
      ]
     },
     "execution_count": 54,
     "metadata": {},
     "output_type": "execute_result"
    }
   ],
   "source": [
    "type(s)"
   ]
  },
  {
   "cell_type": "code",
   "execution_count": 55,
   "id": "efe07d00",
   "metadata": {},
   "outputs": [
    {
     "name": "stdout",
     "output_type": "stream",
     "text": [
      "{1, 2, 5}\n"
     ]
    }
   ],
   "source": [
    "s = {1,2,1,5}\n",
    "print(s)"
   ]
  },
  {
   "cell_type": "code",
   "execution_count": 56,
   "id": "bf0621a0",
   "metadata": {},
   "outputs": [],
   "source": [
    "s2 = {2,1,5}"
   ]
  },
  {
   "cell_type": "code",
   "execution_count": 57,
   "id": "2c028a77",
   "metadata": {},
   "outputs": [
    {
     "data": {
      "text/plain": [
       "True"
      ]
     },
     "execution_count": 57,
     "metadata": {},
     "output_type": "execute_result"
    }
   ],
   "source": [
    "s2 == s"
   ]
  },
  {
   "cell_type": "code",
   "execution_count": 58,
   "id": "256a1e2a",
   "metadata": {},
   "outputs": [],
   "source": [
    "s3 = {1,2,5}"
   ]
  },
  {
   "cell_type": "code",
   "execution_count": 59,
   "id": "26ec1ca8",
   "metadata": {},
   "outputs": [
    {
     "data": {
      "text/plain": [
       "True"
      ]
     },
     "execution_count": 59,
     "metadata": {},
     "output_type": "execute_result"
    }
   ],
   "source": [
    "s3 == s"
   ]
  },
  {
   "cell_type": "code",
   "execution_count": 60,
   "id": "dc2982ae",
   "metadata": {},
   "outputs": [
    {
     "data": {
      "text/plain": [
       "3"
      ]
     },
     "execution_count": 60,
     "metadata": {},
     "output_type": "execute_result"
    }
   ],
   "source": [
    "len(s2)"
   ]
  },
  {
   "cell_type": "code",
   "execution_count": 61,
   "id": "34eda8c9",
   "metadata": {},
   "outputs": [
    {
     "data": {
      "text/plain": [
       "0"
      ]
     },
     "execution_count": 61,
     "metadata": {},
     "output_type": "execute_result"
    }
   ],
   "source": [
    "s4={}\n",
    "len(s4)"
   ]
  },
  {
   "cell_type": "code",
   "execution_count": 1,
   "id": "7d09d561",
   "metadata": {},
   "outputs": [],
   "source": [
    "from test1 import sqr,welcome,cub"
   ]
  },
  {
   "cell_type": "code",
   "execution_count": 2,
   "id": "15e68c77",
   "metadata": {},
   "outputs": [
    {
     "name": "stdout",
     "output_type": "stream",
     "text": [
      "Welcome to Python classes\n"
     ]
    }
   ],
   "source": [
    "welcome()"
   ]
  },
  {
   "cell_type": "code",
   "execution_count": 3,
   "id": "0562bc2c",
   "metadata": {},
   "outputs": [
    {
     "data": {
      "text/plain": [
       "25"
      ]
     },
     "execution_count": 3,
     "metadata": {},
     "output_type": "execute_result"
    }
   ],
   "source": [
    "sqr(5)"
   ]
  },
  {
   "cell_type": "code",
   "execution_count": 4,
   "id": "0e45d2a7",
   "metadata": {},
   "outputs": [
    {
     "name": "stdout",
     "output_type": "stream",
     "text": [
      "Cannot compute for non numeric values, please pass numbers\n"
     ]
    }
   ],
   "source": [
    "sqr(\"TESTING\")"
   ]
  },
  {
   "cell_type": "code",
   "execution_count": 5,
   "id": "67d6db5e",
   "metadata": {},
   "outputs": [
    {
     "data": {
      "text/plain": [
       "[9,\n",
       " 10,\n",
       " 11,\n",
       " 12,\n",
       " 13,\n",
       " 14,\n",
       " 15,\n",
       " 16,\n",
       " 17,\n",
       " 18,\n",
       " 19,\n",
       " 20,\n",
       " 21,\n",
       " 22,\n",
       " 23,\n",
       " 24,\n",
       " 25,\n",
       " 26,\n",
       " 27,\n",
       " 28,\n",
       " 29,\n",
       " 30,\n",
       " 31,\n",
       " 32,\n",
       " 33,\n",
       " 34,\n",
       " 35,\n",
       " 36,\n",
       " 37,\n",
       " 38,\n",
       " 39,\n",
       " 40,\n",
       " 41,\n",
       " 42,\n",
       " 43,\n",
       " 44,\n",
       " 45,\n",
       " 46,\n",
       " 47,\n",
       " 48,\n",
       " 49,\n",
       " 50,\n",
       " 51,\n",
       " 52,\n",
       " 53,\n",
       " 54,\n",
       " 55,\n",
       " 56,\n",
       " 57,\n",
       " 58,\n",
       " 59,\n",
       " 60,\n",
       " 61,\n",
       " 62,\n",
       " 63,\n",
       " 64,\n",
       " 65,\n",
       " 66,\n",
       " 67,\n",
       " 68,\n",
       " 69,\n",
       " 70,\n",
       " 71,\n",
       " 72,\n",
       " 73,\n",
       " 74,\n",
       " 75,\n",
       " 76,\n",
       " 77,\n",
       " 78,\n",
       " 79,\n",
       " 80,\n",
       " 81,\n",
       " 82,\n",
       " 83,\n",
       " 84,\n",
       " 85,\n",
       " 86,\n",
       " 87,\n",
       " 88,\n",
       " 89,\n",
       " 90,\n",
       " 91,\n",
       " 92,\n",
       " 93,\n",
       " 94,\n",
       " 95,\n",
       " 96,\n",
       " 97,\n",
       " 98,\n",
       " 99]"
      ]
     },
     "execution_count": 5,
     "metadata": {},
     "output_type": "execute_result"
    }
   ],
   "source": [
    "a = list(range(9,100))\n",
    "a"
   ]
  },
  {
   "cell_type": "code",
   "execution_count": null,
   "id": "afdd9186",
   "metadata": {},
   "outputs": [],
   "source": []
  }
 ],
 "metadata": {
  "kernelspec": {
   "display_name": "Python 3 (ipykernel)",
   "language": "python",
   "name": "python3"
  },
  "language_info": {
   "codemirror_mode": {
    "name": "ipython",
    "version": 3
   },
   "file_extension": ".py",
   "mimetype": "text/x-python",
   "name": "python",
   "nbconvert_exporter": "python",
   "pygments_lexer": "ipython3",
   "version": "3.10.9"
  }
 },
 "nbformat": 4,
 "nbformat_minor": 5
}
