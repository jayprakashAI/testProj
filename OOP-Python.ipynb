{
 "cells": [
  {
   "cell_type": "code",
   "execution_count": 161,
   "id": "ba56aff4",
   "metadata": {},
   "outputs": [],
   "source": [
    "class Pokemon:\n",
    "    def __init__(self, name, s):\n",
    "        self.name = name\n",
    "        self.level = 1\n",
    "        self.__secret = s\n",
    "        \n",
    "    def reveal_secret(self):\n",
    "        return self.__secret\n",
    "    "
   ]
  },
  {
   "cell_type": "code",
   "execution_count": 162,
   "id": "e3b9d4ac",
   "metadata": {},
   "outputs": [
    {
     "ename": "AttributeError",
     "evalue": "'Pokemon' object has no attribute '__secret'",
     "output_type": "error",
     "traceback": [
      "\u001b[0;31m---------------------------------------------------------------------------\u001b[0m",
      "\u001b[0;31mAttributeError\u001b[0m                            Traceback (most recent call last)",
      "Cell \u001b[0;32mIn[162], line 2\u001b[0m\n\u001b[1;32m      1\u001b[0m ashs_pikachu \u001b[38;5;241m=\u001b[39m Pokemon(\u001b[38;5;124m\"\u001b[39m\u001b[38;5;124mchianChu\u001b[39m\u001b[38;5;124m\"\u001b[39m,\u001b[38;5;241m45\u001b[39m)\n\u001b[0;32m----> 2\u001b[0m \u001b[43mashs_pikachu\u001b[49m\u001b[38;5;241;43m.\u001b[39;49m\u001b[43m__secret\u001b[49m\n",
      "\u001b[0;31mAttributeError\u001b[0m: 'Pokemon' object has no attribute '__secret'"
     ]
    }
   ],
   "source": [
    "ashs_pikachu = Pokemon(\"chianChu\",45)\n",
    "ashs_pikachu.__secret\n"
   ]
  },
  {
   "cell_type": "code",
   "execution_count": 163,
   "id": "1a41c0d0",
   "metadata": {},
   "outputs": [
    {
     "data": {
      "text/plain": [
       "45"
      ]
     },
     "execution_count": 163,
     "metadata": {},
     "output_type": "execute_result"
    }
   ],
   "source": [
    "ashs_pikachu.reveal_secret()"
   ]
  },
  {
   "cell_type": "code",
   "execution_count": 164,
   "id": "1c12d837",
   "metadata": {},
   "outputs": [
    {
     "data": {
      "text/plain": [
       "29"
      ]
     },
     "execution_count": 164,
     "metadata": {},
     "output_type": "execute_result"
    }
   ],
   "source": [
    "\n",
    "albert_jijja_puffy = Pokemon(\"chianChu\",29)\n",
    "#albert_jijja_puffy.__secret\n",
    "albert_jijja_puffy._Pokemon__secret"
   ]
  },
  {
   "cell_type": "code",
   "execution_count": 9,
   "id": "07a92d49",
   "metadata": {},
   "outputs": [],
   "source": [
    "albert_pikachu = Pokemon(\"chianChu\")"
   ]
  },
  {
   "cell_type": "code",
   "execution_count": 10,
   "id": "35dd5551",
   "metadata": {},
   "outputs": [
    {
     "data": {
      "text/plain": [
       "140595672544832"
      ]
     },
     "execution_count": 10,
     "metadata": {},
     "output_type": "execute_result"
    }
   ],
   "source": [
    "id(ashs_pikachu)"
   ]
  },
  {
   "cell_type": "code",
   "execution_count": 11,
   "id": "8b6b4db5",
   "metadata": {},
   "outputs": [
    {
     "data": {
      "text/plain": [
       "140595622609680"
      ]
     },
     "execution_count": 11,
     "metadata": {},
     "output_type": "execute_result"
    }
   ],
   "source": [
    "id(albert_pikachu)"
   ]
  },
  {
   "cell_type": "code",
   "execution_count": 12,
   "id": "cf7b5a77",
   "metadata": {},
   "outputs": [
    {
     "data": {
      "text/plain": [
       "False"
      ]
     },
     "execution_count": 12,
     "metadata": {},
     "output_type": "execute_result"
    }
   ],
   "source": [
    "ashs_pikachu == albert_pikachu"
   ]
  },
  {
   "cell_type": "code",
   "execution_count": 14,
   "id": "349219c9",
   "metadata": {},
   "outputs": [
    {
     "data": {
      "text/plain": [
       "True"
      ]
     },
     "execution_count": 14,
     "metadata": {},
     "output_type": "execute_result"
    }
   ],
   "source": [
    "type(albert_pikachu) == type(ashs_pikachu)"
   ]
  },
  {
   "cell_type": "code",
   "execution_count": 15,
   "id": "c1c43ae2",
   "metadata": {},
   "outputs": [],
   "source": [
    "ab = ashs_pikachu"
   ]
  },
  {
   "cell_type": "code",
   "execution_count": 16,
   "id": "aaa20620",
   "metadata": {},
   "outputs": [
    {
     "data": {
      "text/plain": [
       "True"
      ]
     },
     "execution_count": 16,
     "metadata": {},
     "output_type": "execute_result"
    }
   ],
   "source": [
    "ab == ashs_pikachu"
   ]
  },
  {
   "cell_type": "code",
   "execution_count": 17,
   "id": "20b36a21",
   "metadata": {},
   "outputs": [
    {
     "data": {
      "text/plain": [
       "140595672544832"
      ]
     },
     "execution_count": 17,
     "metadata": {},
     "output_type": "execute_result"
    }
   ],
   "source": [
    "id(ab)"
   ]
  },
  {
   "cell_type": "code",
   "execution_count": 167,
   "id": "77c12d93",
   "metadata": {},
   "outputs": [],
   "source": [
    "def gen(fn,n):\n",
    "    print(\"inside gen\")\n",
    "    if i > 100:\n",
    "        def f1(m=10):\n",
    "            print(m*100)\n",
    "        gn = f1(n)\n",
    "        return None\n",
    "    else:\n",
    "        return gn"
   ]
  },
  {
   "cell_type": "code",
   "execution_count": 87,
   "id": "a5d692af",
   "metadata": {},
   "outputs": [
    {
     "name": "stdout",
     "output_type": "stream",
     "text": [
      "1\n"
     ]
    }
   ],
   "source": [
    "x = 1\n",
    "\n",
    "j = lambda a,y: fn(a,y) if (x* a > 10)  else 1\n",
    "print(j(10,5)) "
   ]
  },
  {
   "cell_type": "code",
   "execution_count": 121,
   "id": "d72bd485",
   "metadata": {},
   "outputs": [
    {
     "data": {
      "text/plain": [
       "[0, 2, 4, 6]"
      ]
     },
     "execution_count": 121,
     "metadata": {},
     "output_type": "execute_result"
    }
   ],
   "source": [
    "lm = [1,2,3,4]\n",
    "a = [i* 2  if i % 2 == 0 else (i*2) for i in range(0, len(lm))]\n",
    "a"
   ]
  },
  {
   "cell_type": "code",
   "execution_count": 114,
   "id": "aa57648a",
   "metadata": {},
   "outputs": [
    {
     "ename": "SyntaxError",
     "evalue": "invalid syntax. Perhaps you forgot a comma? (366494166.py, line 2)",
     "output_type": "error",
     "traceback": [
      "\u001b[0;36m  Cell \u001b[0;32mIn[114], line 2\u001b[0;36m\u001b[0m\n\u001b[0;31m    a = [  n in range(0, len(lm)) lm[n],  if (lm[n] > lm[n+1]) else lm[n+1]]\u001b[0m\n\u001b[0m           ^\u001b[0m\n\u001b[0;31mSyntaxError\u001b[0m\u001b[0;31m:\u001b[0m invalid syntax. Perhaps you forgot a comma?\n"
     ]
    }
   ],
   "source": [
    "lm = [10,20,40,5,45,18,100,120,55,86,]\n",
    "a = [ lm[n] for n in range(0, len(lm))   if (lm[n] > lm[n+1]) else lm[n+1]]"
   ]
  },
  {
   "cell_type": "code",
   "execution_count": 134,
   "id": "1060c468",
   "metadata": {},
   "outputs": [
    {
     "name": "stdout",
     "output_type": "stream",
     "text": [
      "hellohellohellohellohello\n"
     ]
    }
   ],
   "source": [
    "lm = [10,20,40,5,45,18,100,120,55,86]\n",
    "lm = 5\n",
    "a = []\n",
    "s = \"hello\"\n",
    "def upo(s):\n",
    "    return s.upper()\n",
    "\n",
    "a = lambda lm, s : 5*s #[upo(s)  if lm[n-1] > lm[n] else lm[n] for n in range(0, len(lm))]\n",
    "print(a(lm,s))"
   ]
  },
  {
   "cell_type": "code",
   "execution_count": 131,
   "id": "c02f7a96",
   "metadata": {},
   "outputs": [
    {
     "name": "stdout",
     "output_type": "stream",
     "text": [
      "100\n",
      "100\n"
     ]
    }
   ],
   "source": [
    "class myClass():\n",
    "    def __init__(self):\n",
    "        self.x = 100\n",
    "    \n",
    "    def __str__(self,a=100):\n",
    "        return str(self.x)\n",
    "    \n",
    "    def __call__(self):\n",
    "        print( self.x)\n",
    "\n",
    "x1=myClass()\n",
    "x1()\n",
    "print(x1)"
   ]
  },
  {
   "cell_type": "code",
   "execution_count": 168,
   "id": "49ef6b69",
   "metadata": {},
   "outputs": [
    {
     "name": "stdout",
     "output_type": "stream",
     "text": [
      "inside gen\n"
     ]
    },
    {
     "ename": "UnboundLocalError",
     "evalue": "local variable 'gn' referenced before assignment",
     "output_type": "error",
     "traceback": [
      "\u001b[0;31m---------------------------------------------------------------------------\u001b[0m",
      "\u001b[0;31mUnboundLocalError\u001b[0m                         Traceback (most recent call last)",
      "Cell \u001b[0;32mIn[168], line 3\u001b[0m\n\u001b[1;32m      1\u001b[0m gen_values \u001b[38;5;241m=\u001b[39m return_n_values(\u001b[38;5;241m1_000_000\u001b[39m)\n\u001b[1;32m      2\u001b[0m rt_values\u001b[38;5;241m=\u001b[39mreturn_n_values\n\u001b[0;32m----> 3\u001b[0m rValues \u001b[38;5;241m=\u001b[39m\u001b[43mgen\u001b[49m\u001b[43m(\u001b[49m\u001b[43mrt_values\u001b[49m\u001b[43m,\u001b[49m\u001b[38;5;241;43m1000\u001b[39;49m\u001b[43m)\u001b[49m\n\u001b[1;32m      4\u001b[0m \u001b[38;5;28mprint\u001b[39m(\u001b[38;5;124m\"\u001b[39m\u001b[38;5;124mprinting\u001b[39m\u001b[38;5;124m\"\u001b[39m)\n\u001b[1;32m      5\u001b[0m \u001b[38;5;28mprint\u001b[39m(rValues)\n",
      "Cell \u001b[0;32mIn[167], line 9\u001b[0m, in \u001b[0;36mgen\u001b[0;34m(fn, n)\u001b[0m\n\u001b[1;32m      7\u001b[0m     \u001b[38;5;28;01mreturn\u001b[39;00m \u001b[38;5;28;01mNone\u001b[39;00m\n\u001b[1;32m      8\u001b[0m \u001b[38;5;28;01melse\u001b[39;00m:\n\u001b[0;32m----> 9\u001b[0m     \u001b[38;5;28;01mreturn\u001b[39;00m \u001b[43mgn\u001b[49m\n",
      "\u001b[0;31mUnboundLocalError\u001b[0m: local variable 'gn' referenced before assignment"
     ]
    }
   ],
   "source": [
    "gen_values = return_n_values(1_000_000)\n",
    "rt_values=return_n_values\n",
    "rValues =gen(rt_values,1000)\n",
    "print(\"printing\")\n",
    "print(rValues)\n",
    "fn = rValues"
   ]
  },
  {
   "cell_type": "code",
   "execution_count": 58,
   "id": "496c4282",
   "metadata": {},
   "outputs": [
    {
     "data": {
      "text/plain": [
       "3"
      ]
     },
     "execution_count": 58,
     "metadata": {},
     "output_type": "execute_result"
    }
   ],
   "source": [
    "next(rValues)"
   ]
  },
  {
   "cell_type": "code",
   "execution_count": 150,
   "id": "bc292d77",
   "metadata": {},
   "outputs": [
    {
     "name": "stdout",
     "output_type": "stream",
     "text": [
      "True\n",
      "140594880097024 140594880097024\n"
     ]
    }
   ],
   "source": [
    "b = list()\n",
    "b.append(12) \n",
    "c = list()\n",
    "c.append(42) \n",
    "print(c == b)\n",
    "print(id(b), id(c))"
   ]
  },
  {
   "cell_type": "code",
   "execution_count": 50,
   "id": "81bf3234",
   "metadata": {},
   "outputs": [
    {
     "name": "stdout",
     "output_type": "stream",
     "text": [
      "Generator size: 104\n",
      "List size: 8448728\n"
     ]
    }
   ],
   "source": [
    "# Comparing the Size of a List versus a Generator\n",
    "import sys\n",
    "\n",
    "def return_n_values(n):\n",
    "    num = 0\n",
    "    while num < n:\n",
    "        yield num\n",
    "        num += 1\n",
    "\n",
    "gen_values = return_n_values(1_000_000)\n",
    "rt_values=return_n_values\n",
    "list_values = [i for i in range(1_000_000)]\n",
    "\n",
    "print(f'Generator size: {sys.getsizeof(gen_values)}')\n",
    "print(f'List size: {sys.getsizeof(list_values)}')\n"
   ]
  },
  {
   "cell_type": "code",
   "execution_count": 20,
   "id": "16061cb6",
   "metadata": {},
   "outputs": [
    {
     "name": "stdout",
     "output_type": "stream",
     "text": [
      "0\n",
      "1\n",
      "2\n",
      "3\n"
     ]
    },
    {
     "ename": "ValueError",
     "evalue": "The number is three!",
     "output_type": "error",
     "traceback": [
      "\u001b[0;31m---------------------------------------------------------------------------\u001b[0m",
      "\u001b[0;31mValueError\u001b[0m                                Traceback (most recent call last)",
      "Cell \u001b[0;32mIn[20], line 6\u001b[0m\n\u001b[1;32m      4\u001b[0m \u001b[38;5;28mprint\u001b[39m(value)\n\u001b[1;32m      5\u001b[0m \u001b[38;5;28;01mif\u001b[39;00m value \u001b[38;5;241m==\u001b[39m \u001b[38;5;241m3\u001b[39m:\n\u001b[0;32m----> 6\u001b[0m     \u001b[43mfive_values\u001b[49m\u001b[38;5;241;43m.\u001b[39;49m\u001b[43mthrow\u001b[49m\u001b[43m(\u001b[49m\u001b[38;5;167;43;01mValueError\u001b[39;49;00m\u001b[43m(\u001b[49m\u001b[38;5;124;43m'\u001b[39;49m\u001b[38;5;124;43mThe number is three!\u001b[39;49m\u001b[38;5;124;43m'\u001b[39;49m\u001b[43m)\u001b[49m\u001b[43m)\u001b[49m\n",
      "Cell \u001b[0;32mIn[20], line 2\u001b[0m, in \u001b[0;36m<genexpr>\u001b[0;34m(.0)\u001b[0m\n\u001b[1;32m      1\u001b[0m \u001b[38;5;66;03m# Throwing an Exception with the .throw() Method\u001b[39;00m\n\u001b[0;32m----> 2\u001b[0m five_values \u001b[38;5;241m=\u001b[39m (i \u001b[38;5;28;01mfor\u001b[39;00m i \u001b[38;5;129;01min\u001b[39;00m \u001b[38;5;28mrange\u001b[39m(\u001b[38;5;241m5\u001b[39m))\n\u001b[1;32m      3\u001b[0m \u001b[38;5;28;01mfor\u001b[39;00m value \u001b[38;5;129;01min\u001b[39;00m five_values:\n\u001b[1;32m      4\u001b[0m     \u001b[38;5;28mprint\u001b[39m(value)\n",
      "\u001b[0;31mValueError\u001b[0m: The number is three!"
     ]
    }
   ],
   "source": [
    "# Throwing an Exception with the .throw() Method\n",
    "five_values = (i for i in range(5))\n",
    "for value in five_values:\n",
    "    print(value)\n",
    "    if value == 3:\n",
    "        five_values.throw(ValueError('The number is three!'))"
   ]
  },
  {
   "cell_type": "markdown",
   "id": "a3154764",
   "metadata": {},
   "source": [
    "## How to Stop a Python Generator Using stop"
   ]
  },
  {
   "cell_type": "code",
   "execution_count": 21,
   "id": "676dc469",
   "metadata": {},
   "outputs": [
    {
     "name": "stdout",
     "output_type": "stream",
     "text": [
      "0\n",
      "1\n",
      "2\n",
      "3\n"
     ]
    }
   ],
   "source": [
    "# Stopping Execution of a Generator Using the .close() Method\n",
    "five_values = (i for i in range(5))\n",
    "for value in five_values:\n",
    "    print(value)\n",
    "    if value == 3:\n",
    "        five_values.close()"
   ]
  },
  {
   "cell_type": "code",
   "execution_count": 25,
   "id": "86d6a5d1",
   "metadata": {},
   "outputs": [
    {
     "name": "stdout",
     "output_type": "stream",
     "text": [
      "1\n",
      "2\n",
      "3\n"
     ]
    }
   ],
   "source": [
    "def simpleGeneratorFun(): \n",
    "    yield 1 \n",
    "    yield 2 \n",
    "    yield 3 \n",
    "    \n",
    "x=simpleGeneratorFun() \n",
    "print(next(x)) \n",
    "print(next(x)) \n",
    "print(next(x))"
   ]
  },
  {
   "cell_type": "code",
   "execution_count": 27,
   "id": "45afce50",
   "metadata": {},
   "outputs": [],
   "source": [
    "def SquareOfNumbers(): \n",
    "    i=1 \n",
    "    while True: \n",
    "        yield i*i \n",
    "        i+=1 \n",
    "    \n",
    "    for num in SquareOfNumbers(): \n",
    "        if num>100: \n",
    "            break \n",
    "        print(num) "
   ]
  },
  {
   "cell_type": "code",
   "execution_count": 28,
   "id": "4c6fd9a8",
   "metadata": {},
   "outputs": [],
   "source": [
    "d = SquareOfNumbers()"
   ]
  },
  {
   "cell_type": "code",
   "execution_count": 31,
   "id": "2811ebd0",
   "metadata": {},
   "outputs": [
    {
     "data": {
      "text/plain": [
       "<generator object SquareOfNumbers at 0x7fded3dfcac0>"
      ]
     },
     "execution_count": 31,
     "metadata": {},
     "output_type": "execute_result"
    }
   ],
   "source": [
    "d"
   ]
  },
  {
   "cell_type": "code",
   "execution_count": 34,
   "id": "b1a3d814",
   "metadata": {},
   "outputs": [
    {
     "data": {
      "text/plain": [
       "4"
      ]
     },
     "execution_count": 34,
     "metadata": {},
     "output_type": "execute_result"
    }
   ],
   "source": [
    "next(d)"
   ]
  },
  {
   "cell_type": "code",
   "execution_count": 36,
   "id": "7a100fc3",
   "metadata": {},
   "outputs": [
    {
     "name": "stdout",
     "output_type": "stream",
     "text": [
      "1\n",
      "4\n",
      "9\n",
      "16\n",
      "25\n",
      "36\n",
      "49\n",
      "64\n",
      "81\n",
      "100\n",
      "121\n",
      "144\n",
      "169\n",
      "196\n",
      "225\n",
      "256\n",
      "289\n",
      "324\n",
      "361\n",
      "400\n",
      "441\n",
      "484\n",
      "529\n",
      "576\n",
      "625\n",
      "676\n",
      "729\n",
      "784\n",
      "841\n",
      "900\n",
      "961\n",
      "1024\n",
      "1089\n",
      "1156\n",
      "1225\n",
      "1296\n",
      "1369\n",
      "1444\n",
      "1521\n",
      "1600\n",
      "1681\n",
      "1764\n",
      "1849\n",
      "1936\n",
      "2025\n",
      "2116\n",
      "2209\n",
      "2304\n",
      "2401\n",
      "2500\n",
      "2601\n",
      "2704\n",
      "2809\n",
      "2916\n",
      "3025\n",
      "3136\n",
      "3249\n",
      "3364\n",
      "3481\n",
      "3600\n",
      "3721\n",
      "3844\n",
      "3969\n",
      "4096\n",
      "4225\n",
      "4356\n",
      "4489\n",
      "4624\n",
      "4761\n",
      "4900\n",
      "5041\n",
      "5184\n",
      "5329\n",
      "5476\n",
      "5625\n",
      "5776\n",
      "5929\n",
      "6084\n",
      "6241\n",
      "6400\n",
      "6561\n",
      "6724\n",
      "6889\n",
      "7056\n",
      "7225\n",
      "7396\n",
      "7569\n",
      "7744\n",
      "7921\n",
      "8100\n",
      "8281\n",
      "8464\n",
      "8649\n",
      "8836\n",
      "9025\n",
      "9216\n",
      "9409\n",
      "9604\n",
      "9801\n",
      "10000\n",
      "10201\n"
     ]
    }
   ],
   "source": [
    "j =SquareOfNumbers()\n",
    "for i in range(0,101):    \n",
    "    print(next(j))"
   ]
  },
  {
   "cell_type": "code",
   "execution_count": 46,
   "id": "65d39692",
   "metadata": {},
   "outputs": [
    {
     "name": "stdout",
     "output_type": "stream",
     "text": [
      "The number of demo in string is : 3\n"
     ]
    }
   ],
   "source": [
    "def print_even(test_string): \n",
    "    for i in test_string: \n",
    "        if i==\"demo\": \n",
    "              yield i \n",
    "                \n",
    "demo_string = 'This is demo string, This is demo string, This is demo string'\n",
    "count = 0 \n",
    "print(\"The number of demo in string is : \", end=\"\") \n",
    "demo_string=demo_string.split() \n",
    "for j in print_even(demo_string): \n",
    "    count=count+1 \n",
    "\n",
    "print(count) "
   ]
  },
  {
   "cell_type": "code",
   "execution_count": 225,
   "id": "88e49e79",
   "metadata": {},
   "outputs": [
    {
     "name": "stdout",
     "output_type": "stream",
     "text": [
      "calling FO\n",
      "<function hello at 0x7fdecbee4c10> <function makebold at 0x7fded28a1e10>\n"
     ]
    }
   ],
   "source": [
    "# Higher order functions\n",
    "\n",
    "def makebold(fn):\n",
    "    print(\"makebold\")\n",
    "    def wrapped2():\n",
    "        print(\"wrapped\")\n",
    "        return \"<b>\" + fn() + \"</b>\"\n",
    "    return wrapped2\n",
    "\n",
    "def hello():\n",
    "    return \" \"\n",
    "\n",
    "\n",
    "print(\"calling FO\")\n",
    "print(hello,makebold)"
   ]
  },
  {
   "cell_type": "code",
   "execution_count": 226,
   "id": "a2c8e5b6",
   "metadata": {},
   "outputs": [
    {
     "name": "stdout",
     "output_type": "stream",
     "text": [
      "makebold\n",
      "<function makebold.<locals>.wrapped2 at 0x7fded28a3370>\n"
     ]
    }
   ],
   "source": [
    "g = makebold(hello)\n",
    "print(g)\n"
   ]
  },
  {
   "cell_type": "code",
   "execution_count": 227,
   "id": "38aac096",
   "metadata": {},
   "outputs": [
    {
     "name": "stdout",
     "output_type": "stream",
     "text": [
      "makebold\n",
      "wrapped\n",
      "<b> </b>\n"
     ]
    }
   ],
   "source": [
    "\n",
    "print(makebold(hello)() )"
   ]
  },
  {
   "cell_type": "code",
   "execution_count": null,
   "id": "87a7124c",
   "metadata": {},
   "outputs": [],
   "source": []
  },
  {
   "cell_type": "code",
   "execution_count": null,
   "id": "8f58fe66",
   "metadata": {},
   "outputs": [],
   "source": []
  }
 ],
 "metadata": {
  "kernelspec": {
   "display_name": "Python 3 (ipykernel)",
   "language": "python",
   "name": "python3"
  },
  "language_info": {
   "codemirror_mode": {
    "name": "ipython",
    "version": 3
   },
   "file_extension": ".py",
   "mimetype": "text/x-python",
   "name": "python",
   "nbconvert_exporter": "python",
   "pygments_lexer": "ipython3",
   "version": "3.10.9"
  }
 },
 "nbformat": 4,
 "nbformat_minor": 5
}
